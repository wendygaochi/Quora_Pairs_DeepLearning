{
 "cells": [
  {
   "cell_type": "markdown",
   "metadata": {
    "collapsed": true,
    "nbpresent": {
     "id": "f765eb10-54e6-4a14-912b-e5117e8f433d"
    }
   },
   "source": [
    "# Preprocessing Steps - Word Embedding\n",
    "## ReadDataF"
   ]
  },
  {
   "cell_type": "code",
   "execution_count": 2,
   "metadata": {
    "ExecuteTime": {
     "end_time": "2017-11-28T00:08:10.559723Z",
     "start_time": "2017-11-28T00:08:07.996770Z"
    }
   },
   "outputs": [
    {
     "name": "stderr",
     "output_type": "stream",
     "text": [
      "Using TensorFlow backend.\n",
      "/Users/mo/anaconda3/lib/python3.6/importlib/_bootstrap.py:219: RuntimeWarning: compiletime version 3.5 of module 'tensorflow.python.framework.fast_tensor_util' does not match runtime version 3.6\n",
      "  return f(*args, **kwds)\n"
     ]
    }
   ],
   "source": [
    "%matplotlib inline\n",
    "from keras.preprocessing.text import text_to_word_sequence, one_hot, Tokenizer \n",
    "from keras.layers import Embedding\n",
    "import pandas as pd\n",
    "import numpy as np\n",
    "import os\n",
    "import pickle\n",
    "import re"
   ]
  },
  {
   "cell_type": "code",
   "execution_count": 6,
   "metadata": {
    "ExecuteTime": {
     "end_time": "2017-11-28T00:14:47.817486Z",
     "start_time": "2017-11-28T00:14:40.063739Z"
    },
    "scrolled": false
   },
   "outputs": [
    {
     "name": "stdout",
     "output_type": "stream",
     "text": [
      "What is the step by step guide to invest in share market in india?\n",
      "['what', 'is', 'the', 'step', 'by', 'step', 'guide', 'to', 'invest', 'in', 'share', 'market', 'in', 'india'] \n",
      " <class 'list'>\n"
     ]
    }
   ],
   "source": [
    "dataPath = \"./wendygao16/Quora_NLP/\"\n",
    "train = pd.read_csv(dataPath+'train.csv', usecols=['question1', 'question2', 'id'])\n",
    "test  = pd.read_csv(dataPath+'test.csv',  usecols=['question1', 'question2', 'test_id'])\n",
    "test.dropna(inplace=True)\n",
    "train.dropna(inplace=True) # remove two rows as in NLP feature creation\n",
    "\n",
    "# For testing only\n",
    "#train = train[:1000] \n",
    "#test = test[:1000]\n",
    "\n",
    "question = train.question1[0]\n",
    "print(question)\n",
    "print(text_to_word_sequence(question), '\\n', type(text_to_word_sequence(question)))"
   ]
  },
  {
   "cell_type": "code",
   "execution_count": 7,
   "metadata": {
    "ExecuteTime": {
     "end_time": "2017-11-28T00:18:25.387661Z",
     "start_time": "2017-11-28T00:18:25.365064Z"
    }
   },
   "outputs": [
    {
     "data": {
      "text/html": [
       "<div>\n",
       "<style scoped>\n",
       "    .dataframe tbody tr th:only-of-type {\n",
       "        vertical-align: middle;\n",
       "    }\n",
       "\n",
       "    .dataframe tbody tr th {\n",
       "        vertical-align: top;\n",
       "    }\n",
       "\n",
       "    .dataframe thead th {\n",
       "        text-align: right;\n",
       "    }\n",
       "</style>\n",
       "<table border=\"1\" class=\"dataframe\">\n",
       "  <thead>\n",
       "    <tr style=\"text-align: right;\">\n",
       "      <th></th>\n",
       "      <th>id</th>\n",
       "      <th>question1</th>\n",
       "      <th>question2</th>\n",
       "    </tr>\n",
       "  </thead>\n",
       "  <tbody>\n",
       "    <tr>\n",
       "      <th>0</th>\n",
       "      <td>0</td>\n",
       "      <td>What is the step by step guide to invest in sh...</td>\n",
       "      <td>What is the step by step guide to invest in sh...</td>\n",
       "    </tr>\n",
       "    <tr>\n",
       "      <th>1</th>\n",
       "      <td>1</td>\n",
       "      <td>What is the story of Kohinoor (Koh-i-Noor) Dia...</td>\n",
       "      <td>What would happen if the Indian government sto...</td>\n",
       "    </tr>\n",
       "    <tr>\n",
       "      <th>2</th>\n",
       "      <td>2</td>\n",
       "      <td>How can I increase the speed of my internet co...</td>\n",
       "      <td>How can Internet speed be increased by hacking...</td>\n",
       "    </tr>\n",
       "    <tr>\n",
       "      <th>3</th>\n",
       "      <td>3</td>\n",
       "      <td>Why am I mentally very lonely? How can I solve...</td>\n",
       "      <td>Find the remainder when [math]23^{24}[/math] i...</td>\n",
       "    </tr>\n",
       "    <tr>\n",
       "      <th>4</th>\n",
       "      <td>4</td>\n",
       "      <td>Which one dissolve in water quikly sugar, salt...</td>\n",
       "      <td>Which fish would survive in salt water?</td>\n",
       "    </tr>\n",
       "    <tr>\n",
       "      <th>5</th>\n",
       "      <td>5</td>\n",
       "      <td>Astrology: I am a Capricorn Sun Cap moon and c...</td>\n",
       "      <td>I'm a triple Capricorn (Sun, Moon and ascendan...</td>\n",
       "    </tr>\n",
       "    <tr>\n",
       "      <th>6</th>\n",
       "      <td>6</td>\n",
       "      <td>Should I buy tiago?</td>\n",
       "      <td>What keeps childern active and far from phone ...</td>\n",
       "    </tr>\n",
       "    <tr>\n",
       "      <th>7</th>\n",
       "      <td>7</td>\n",
       "      <td>How can I be a good geologist?</td>\n",
       "      <td>What should I do to be a great geologist?</td>\n",
       "    </tr>\n",
       "    <tr>\n",
       "      <th>8</th>\n",
       "      <td>8</td>\n",
       "      <td>When do you use シ instead of し?</td>\n",
       "      <td>When do you use \"&amp;\" instead of \"and\"?</td>\n",
       "    </tr>\n",
       "    <tr>\n",
       "      <th>9</th>\n",
       "      <td>9</td>\n",
       "      <td>Motorola (company): Can I hack my Charter Moto...</td>\n",
       "      <td>How do I hack Motorola DCX3400 for free internet?</td>\n",
       "    </tr>\n",
       "    <tr>\n",
       "      <th>10</th>\n",
       "      <td>10</td>\n",
       "      <td>Method to find separation of slits using fresn...</td>\n",
       "      <td>What are some of the things technicians can te...</td>\n",
       "    </tr>\n",
       "    <tr>\n",
       "      <th>11</th>\n",
       "      <td>11</td>\n",
       "      <td>How do I read and find my YouTube comments?</td>\n",
       "      <td>How can I see all my Youtube comments?</td>\n",
       "    </tr>\n",
       "    <tr>\n",
       "      <th>12</th>\n",
       "      <td>12</td>\n",
       "      <td>What can make Physics easy to learn?</td>\n",
       "      <td>How can you make physics easy to learn?</td>\n",
       "    </tr>\n",
       "    <tr>\n",
       "      <th>13</th>\n",
       "      <td>13</td>\n",
       "      <td>What was your first sexual experience like?</td>\n",
       "      <td>What was your first sexual experience?</td>\n",
       "    </tr>\n",
       "    <tr>\n",
       "      <th>14</th>\n",
       "      <td>14</td>\n",
       "      <td>What are the laws to change your status from a...</td>\n",
       "      <td>What are the laws to change your status from a...</td>\n",
       "    </tr>\n",
       "    <tr>\n",
       "      <th>15</th>\n",
       "      <td>15</td>\n",
       "      <td>What would a Trump presidency mean for current...</td>\n",
       "      <td>How will a Trump presidency affect the student...</td>\n",
       "    </tr>\n",
       "    <tr>\n",
       "      <th>16</th>\n",
       "      <td>16</td>\n",
       "      <td>What does manipulation mean?</td>\n",
       "      <td>What does manipulation means?</td>\n",
       "    </tr>\n",
       "    <tr>\n",
       "      <th>17</th>\n",
       "      <td>17</td>\n",
       "      <td>Why do girls want to be friends with the guy t...</td>\n",
       "      <td>How do guys feel after rejecting a girl?</td>\n",
       "    </tr>\n",
       "    <tr>\n",
       "      <th>18</th>\n",
       "      <td>18</td>\n",
       "      <td>Why are so many Quora users posting questions ...</td>\n",
       "      <td>Why do people ask Quora questions which can be...</td>\n",
       "    </tr>\n",
       "    <tr>\n",
       "      <th>19</th>\n",
       "      <td>19</td>\n",
       "      <td>Which is the best digital marketing institutio...</td>\n",
       "      <td>Which is the best digital marketing institute ...</td>\n",
       "    </tr>\n",
       "    <tr>\n",
       "      <th>20</th>\n",
       "      <td>20</td>\n",
       "      <td>Why do rockets look white?</td>\n",
       "      <td>Why are rockets and boosters painted white?</td>\n",
       "    </tr>\n",
       "    <tr>\n",
       "      <th>21</th>\n",
       "      <td>21</td>\n",
       "      <td>What's causing someone to be jealous?</td>\n",
       "      <td>What can I do to avoid being jealous of someone?</td>\n",
       "    </tr>\n",
       "    <tr>\n",
       "      <th>22</th>\n",
       "      <td>22</td>\n",
       "      <td>What are the questions should not ask on Quora?</td>\n",
       "      <td>Which question should I ask on Quora?</td>\n",
       "    </tr>\n",
       "    <tr>\n",
       "      <th>23</th>\n",
       "      <td>23</td>\n",
       "      <td>How much is 30 kV in HP?</td>\n",
       "      <td>Where can I find a conversion chart for CC to ...</td>\n",
       "    </tr>\n",
       "    <tr>\n",
       "      <th>24</th>\n",
       "      <td>24</td>\n",
       "      <td>What does it mean that every time I look at th...</td>\n",
       "      <td>How many times a day do a clock’s hands overlap?</td>\n",
       "    </tr>\n",
       "    <tr>\n",
       "      <th>25</th>\n",
       "      <td>25</td>\n",
       "      <td>What are some tips on making it through the jo...</td>\n",
       "      <td>What are some tips on making it through the jo...</td>\n",
       "    </tr>\n",
       "    <tr>\n",
       "      <th>26</th>\n",
       "      <td>26</td>\n",
       "      <td>What is web application?</td>\n",
       "      <td>What is the web application framework?</td>\n",
       "    </tr>\n",
       "    <tr>\n",
       "      <th>27</th>\n",
       "      <td>27</td>\n",
       "      <td>Does society place too much importance on sports?</td>\n",
       "      <td>How do sports contribute to the society?</td>\n",
       "    </tr>\n",
       "    <tr>\n",
       "      <th>28</th>\n",
       "      <td>28</td>\n",
       "      <td>What is best way to make money online?</td>\n",
       "      <td>What is best way to ask for money online?</td>\n",
       "    </tr>\n",
       "    <tr>\n",
       "      <th>29</th>\n",
       "      <td>29</td>\n",
       "      <td>How should I prepare for CA final law?</td>\n",
       "      <td>How one should know that he/she completely pre...</td>\n",
       "    </tr>\n",
       "    <tr>\n",
       "      <th>...</th>\n",
       "      <td>...</td>\n",
       "      <td>...</td>\n",
       "      <td>...</td>\n",
       "    </tr>\n",
       "    <tr>\n",
       "      <th>404260</th>\n",
       "      <td>404260</td>\n",
       "      <td>Which phone is best under 12000?</td>\n",
       "      <td>What is the best phone to buy below 15k?</td>\n",
       "    </tr>\n",
       "    <tr>\n",
       "      <th>404261</th>\n",
       "      <td>404261</td>\n",
       "      <td>Who is the overall most popular Game of Throne...</td>\n",
       "      <td>Who is the most popular character in the Game ...</td>\n",
       "    </tr>\n",
       "    <tr>\n",
       "      <th>404262</th>\n",
       "      <td>404262</td>\n",
       "      <td>How do you troubleshoot a Toshiba laptop?</td>\n",
       "      <td>How do I reset a Toshiba laptop?</td>\n",
       "    </tr>\n",
       "    <tr>\n",
       "      <th>404263</th>\n",
       "      <td>404263</td>\n",
       "      <td>How does the burning of fossil fuels contribut...</td>\n",
       "      <td>Why does CO2 contribute more to global warming...</td>\n",
       "    </tr>\n",
       "    <tr>\n",
       "      <th>404264</th>\n",
       "      <td>404264</td>\n",
       "      <td>Is it safe to store an external battery power ...</td>\n",
       "      <td>How do I make a safe and cheap power bank?</td>\n",
       "    </tr>\n",
       "    <tr>\n",
       "      <th>404265</th>\n",
       "      <td>404265</td>\n",
       "      <td>How can I gain weight on my body?</td>\n",
       "      <td>What should I eat to gain weight?</td>\n",
       "    </tr>\n",
       "    <tr>\n",
       "      <th>404266</th>\n",
       "      <td>404266</td>\n",
       "      <td>What is the green dot next to the phone icon o...</td>\n",
       "      <td>My boyfriend says he deleted his Facebook Mess...</td>\n",
       "    </tr>\n",
       "    <tr>\n",
       "      <th>404267</th>\n",
       "      <td>404267</td>\n",
       "      <td>What are the causes of the fall of the Roman E...</td>\n",
       "      <td>What were the most important causes and effect...</td>\n",
       "    </tr>\n",
       "    <tr>\n",
       "      <th>404268</th>\n",
       "      <td>404268</td>\n",
       "      <td>Why don't we still do great music like in the ...</td>\n",
       "      <td>Should I raise my young child on 80's music?</td>\n",
       "    </tr>\n",
       "    <tr>\n",
       "      <th>404269</th>\n",
       "      <td>404269</td>\n",
       "      <td>How do you diagnose antisocial personality dis...</td>\n",
       "      <td>What Does It Feel Like to have antisocial pers...</td>\n",
       "    </tr>\n",
       "    <tr>\n",
       "      <th>404270</th>\n",
       "      <td>404270</td>\n",
       "      <td>What is the difference between who and how?</td>\n",
       "      <td>What is the difference between \"&amp;\" and \"and\"?</td>\n",
       "    </tr>\n",
       "    <tr>\n",
       "      <th>404271</th>\n",
       "      <td>404271</td>\n",
       "      <td>Does Stalin have any grandchildren that are st...</td>\n",
       "      <td>What was Joseph Stalin's 5 year plan? How did ...</td>\n",
       "    </tr>\n",
       "    <tr>\n",
       "      <th>404272</th>\n",
       "      <td>404272</td>\n",
       "      <td>What are the best new car products or inventio...</td>\n",
       "      <td>What are some mind-blowing vehicles tools that...</td>\n",
       "    </tr>\n",
       "    <tr>\n",
       "      <th>404273</th>\n",
       "      <td>404273</td>\n",
       "      <td>What happens if you put milk in a coffee maker?</td>\n",
       "      <td>What would happen if I put milk instead of wat...</td>\n",
       "    </tr>\n",
       "    <tr>\n",
       "      <th>404274</th>\n",
       "      <td>404274</td>\n",
       "      <td>Will the next generation of parenting change o...</td>\n",
       "      <td>What kind of parents will the next generation ...</td>\n",
       "    </tr>\n",
       "    <tr>\n",
       "      <th>404275</th>\n",
       "      <td>404275</td>\n",
       "      <td>In accounting, why do we debit expenses and cr...</td>\n",
       "      <td>What is a utilities expense in accounting? How...</td>\n",
       "    </tr>\n",
       "    <tr>\n",
       "      <th>404276</th>\n",
       "      <td>404276</td>\n",
       "      <td>What is copilotsearch.com?</td>\n",
       "      <td>What is ContenVania.com?</td>\n",
       "    </tr>\n",
       "    <tr>\n",
       "      <th>404277</th>\n",
       "      <td>404277</td>\n",
       "      <td>What does analytics do?</td>\n",
       "      <td>What are analytical people like?</td>\n",
       "    </tr>\n",
       "    <tr>\n",
       "      <th>404278</th>\n",
       "      <td>404278</td>\n",
       "      <td>How did you prepare for AIIMS/NEET/AIPMT?</td>\n",
       "      <td>How did you prepare for the AIIMS UG entrance ...</td>\n",
       "    </tr>\n",
       "    <tr>\n",
       "      <th>404279</th>\n",
       "      <td>404279</td>\n",
       "      <td>What is the minimum time required to build a f...</td>\n",
       "      <td>What is a cheaper and quicker way to build an ...</td>\n",
       "    </tr>\n",
       "    <tr>\n",
       "      <th>404280</th>\n",
       "      <td>404280</td>\n",
       "      <td>What are some outfit ideas to wear to a frat p...</td>\n",
       "      <td>What are some outfit ideas wear to a frat them...</td>\n",
       "    </tr>\n",
       "    <tr>\n",
       "      <th>404281</th>\n",
       "      <td>404281</td>\n",
       "      <td>Why is Manaphy childish in Pokémon Ranger and ...</td>\n",
       "      <td>Why is Manaphy annoying in Pokemon ranger and ...</td>\n",
       "    </tr>\n",
       "    <tr>\n",
       "      <th>404282</th>\n",
       "      <td>404282</td>\n",
       "      <td>How does a long distance relationship work?</td>\n",
       "      <td>How are long distance relationships maintained?</td>\n",
       "    </tr>\n",
       "    <tr>\n",
       "      <th>404283</th>\n",
       "      <td>404283</td>\n",
       "      <td>What do you think of the removal of the MagSaf...</td>\n",
       "      <td>What will the CPU upgrade to the 2016 Apple Ma...</td>\n",
       "    </tr>\n",
       "    <tr>\n",
       "      <th>404284</th>\n",
       "      <td>404284</td>\n",
       "      <td>What does Jainism say about homosexuality?</td>\n",
       "      <td>What does Jainism say about Gays and Homosexua...</td>\n",
       "    </tr>\n",
       "    <tr>\n",
       "      <th>404285</th>\n",
       "      <td>404285</td>\n",
       "      <td>How many keywords are there in the Racket prog...</td>\n",
       "      <td>How many keywords are there in PERL Programmin...</td>\n",
       "    </tr>\n",
       "    <tr>\n",
       "      <th>404286</th>\n",
       "      <td>404286</td>\n",
       "      <td>Do you believe there is life after death?</td>\n",
       "      <td>Is it true that there is life after death?</td>\n",
       "    </tr>\n",
       "    <tr>\n",
       "      <th>404287</th>\n",
       "      <td>404287</td>\n",
       "      <td>What is one coin?</td>\n",
       "      <td>What's this coin?</td>\n",
       "    </tr>\n",
       "    <tr>\n",
       "      <th>404288</th>\n",
       "      <td>404288</td>\n",
       "      <td>What is the approx annual cost of living while...</td>\n",
       "      <td>I am having little hairfall problem but I want...</td>\n",
       "    </tr>\n",
       "    <tr>\n",
       "      <th>404289</th>\n",
       "      <td>404289</td>\n",
       "      <td>What is like to have sex with cousin?</td>\n",
       "      <td>What is it like to have sex with your cousin?</td>\n",
       "    </tr>\n",
       "  </tbody>\n",
       "</table>\n",
       "<p>404287 rows × 3 columns</p>\n",
       "</div>"
      ],
      "text/plain": [
       "            id                                          question1  \\\n",
       "0            0  What is the step by step guide to invest in sh...   \n",
       "1            1  What is the story of Kohinoor (Koh-i-Noor) Dia...   \n",
       "2            2  How can I increase the speed of my internet co...   \n",
       "3            3  Why am I mentally very lonely? How can I solve...   \n",
       "4            4  Which one dissolve in water quikly sugar, salt...   \n",
       "5            5  Astrology: I am a Capricorn Sun Cap moon and c...   \n",
       "6            6                                Should I buy tiago?   \n",
       "7            7                     How can I be a good geologist?   \n",
       "8            8                    When do you use シ instead of し?   \n",
       "9            9  Motorola (company): Can I hack my Charter Moto...   \n",
       "10          10  Method to find separation of slits using fresn...   \n",
       "11          11        How do I read and find my YouTube comments?   \n",
       "12          12               What can make Physics easy to learn?   \n",
       "13          13        What was your first sexual experience like?   \n",
       "14          14  What are the laws to change your status from a...   \n",
       "15          15  What would a Trump presidency mean for current...   \n",
       "16          16                       What does manipulation mean?   \n",
       "17          17  Why do girls want to be friends with the guy t...   \n",
       "18          18  Why are so many Quora users posting questions ...   \n",
       "19          19  Which is the best digital marketing institutio...   \n",
       "20          20                         Why do rockets look white?   \n",
       "21          21              What's causing someone to be jealous?   \n",
       "22          22    What are the questions should not ask on Quora?   \n",
       "23          23                           How much is 30 kV in HP?   \n",
       "24          24  What does it mean that every time I look at th...   \n",
       "25          25  What are some tips on making it through the jo...   \n",
       "26          26                           What is web application?   \n",
       "27          27  Does society place too much importance on sports?   \n",
       "28          28             What is best way to make money online?   \n",
       "29          29             How should I prepare for CA final law?   \n",
       "...        ...                                                ...   \n",
       "404260  404260                   Which phone is best under 12000?   \n",
       "404261  404261  Who is the overall most popular Game of Throne...   \n",
       "404262  404262          How do you troubleshoot a Toshiba laptop?   \n",
       "404263  404263  How does the burning of fossil fuels contribut...   \n",
       "404264  404264  Is it safe to store an external battery power ...   \n",
       "404265  404265                  How can I gain weight on my body?   \n",
       "404266  404266  What is the green dot next to the phone icon o...   \n",
       "404267  404267  What are the causes of the fall of the Roman E...   \n",
       "404268  404268  Why don't we still do great music like in the ...   \n",
       "404269  404269  How do you diagnose antisocial personality dis...   \n",
       "404270  404270        What is the difference between who and how?   \n",
       "404271  404271  Does Stalin have any grandchildren that are st...   \n",
       "404272  404272  What are the best new car products or inventio...   \n",
       "404273  404273    What happens if you put milk in a coffee maker?   \n",
       "404274  404274  Will the next generation of parenting change o...   \n",
       "404275  404275  In accounting, why do we debit expenses and cr...   \n",
       "404276  404276                         What is copilotsearch.com?   \n",
       "404277  404277                            What does analytics do?   \n",
       "404278  404278          How did you prepare for AIIMS/NEET/AIPMT?   \n",
       "404279  404279  What is the minimum time required to build a f...   \n",
       "404280  404280  What are some outfit ideas to wear to a frat p...   \n",
       "404281  404281  Why is Manaphy childish in Pokémon Ranger and ...   \n",
       "404282  404282        How does a long distance relationship work?   \n",
       "404283  404283  What do you think of the removal of the MagSaf...   \n",
       "404284  404284         What does Jainism say about homosexuality?   \n",
       "404285  404285  How many keywords are there in the Racket prog...   \n",
       "404286  404286          Do you believe there is life after death?   \n",
       "404287  404287                                  What is one coin?   \n",
       "404288  404288  What is the approx annual cost of living while...   \n",
       "404289  404289              What is like to have sex with cousin?   \n",
       "\n",
       "                                                question2  \n",
       "0       What is the step by step guide to invest in sh...  \n",
       "1       What would happen if the Indian government sto...  \n",
       "2       How can Internet speed be increased by hacking...  \n",
       "3       Find the remainder when [math]23^{24}[/math] i...  \n",
       "4                 Which fish would survive in salt water?  \n",
       "5       I'm a triple Capricorn (Sun, Moon and ascendan...  \n",
       "6       What keeps childern active and far from phone ...  \n",
       "7               What should I do to be a great geologist?  \n",
       "8                   When do you use \"&\" instead of \"and\"?  \n",
       "9       How do I hack Motorola DCX3400 for free internet?  \n",
       "10      What are some of the things technicians can te...  \n",
       "11                 How can I see all my Youtube comments?  \n",
       "12                How can you make physics easy to learn?  \n",
       "13                 What was your first sexual experience?  \n",
       "14      What are the laws to change your status from a...  \n",
       "15      How will a Trump presidency affect the student...  \n",
       "16                          What does manipulation means?  \n",
       "17               How do guys feel after rejecting a girl?  \n",
       "18      Why do people ask Quora questions which can be...  \n",
       "19      Which is the best digital marketing institute ...  \n",
       "20            Why are rockets and boosters painted white?  \n",
       "21       What can I do to avoid being jealous of someone?  \n",
       "22                  Which question should I ask on Quora?  \n",
       "23      Where can I find a conversion chart for CC to ...  \n",
       "24       How many times a day do a clock’s hands overlap?  \n",
       "25      What are some tips on making it through the jo...  \n",
       "26                 What is the web application framework?  \n",
       "27               How do sports contribute to the society?  \n",
       "28              What is best way to ask for money online?  \n",
       "29      How one should know that he/she completely pre...  \n",
       "...                                                   ...  \n",
       "404260           What is the best phone to buy below 15k?  \n",
       "404261  Who is the most popular character in the Game ...  \n",
       "404262                   How do I reset a Toshiba laptop?  \n",
       "404263  Why does CO2 contribute more to global warming...  \n",
       "404264         How do I make a safe and cheap power bank?  \n",
       "404265                  What should I eat to gain weight?  \n",
       "404266  My boyfriend says he deleted his Facebook Mess...  \n",
       "404267  What were the most important causes and effect...  \n",
       "404268       Should I raise my young child on 80's music?  \n",
       "404269  What Does It Feel Like to have antisocial pers...  \n",
       "404270      What is the difference between \"&\" and \"and\"?  \n",
       "404271  What was Joseph Stalin's 5 year plan? How did ...  \n",
       "404272  What are some mind-blowing vehicles tools that...  \n",
       "404273  What would happen if I put milk instead of wat...  \n",
       "404274  What kind of parents will the next generation ...  \n",
       "404275  What is a utilities expense in accounting? How...  \n",
       "404276                           What is ContenVania.com?  \n",
       "404277                   What are analytical people like?  \n",
       "404278  How did you prepare for the AIIMS UG entrance ...  \n",
       "404279  What is a cheaper and quicker way to build an ...  \n",
       "404280  What are some outfit ideas wear to a frat them...  \n",
       "404281  Why is Manaphy annoying in Pokemon ranger and ...  \n",
       "404282    How are long distance relationships maintained?  \n",
       "404283  What will the CPU upgrade to the 2016 Apple Ma...  \n",
       "404284  What does Jainism say about Gays and Homosexua...  \n",
       "404285  How many keywords are there in PERL Programmin...  \n",
       "404286         Is it true that there is life after death?  \n",
       "404287                                  What's this coin?  \n",
       "404288  I am having little hairfall problem but I want...  \n",
       "404289      What is it like to have sex with your cousin?  \n",
       "\n",
       "[404287 rows x 3 columns]"
      ]
     },
     "execution_count": 7,
     "metadata": {},
     "output_type": "execute_result"
    }
   ],
   "source": [
    "train"
   ]
  },
  {
   "cell_type": "markdown",
   "metadata": {},
   "source": [
    "## Step 1. Lemmatization\n",
    "\n",
    "Questions are preprocessed so that the different forms of writing the same text (like \"don't\" and \"do not\") are  matched. Lemmatization similar to one done in the first part of the project helps again. \n",
    "\n",
    "#### Lemmatize with *WordNetLemmatizer*:"
   ]
  },
  {
   "cell_type": "code",
   "execution_count": 3,
   "metadata": {
    "ExecuteTime": {
     "end_time": "2017-11-27T22:43:09.436439Z",
     "start_time": "2017-11-27T22:43:08.778597Z"
    },
    "collapsed": true
   },
   "outputs": [],
   "source": [
    "#import nltk\n",
    "#nltk.download()\n",
    "\n",
    "from nltk.stem.wordnet import WordNetLemmatizer\n",
    "WNL = WordNetLemmatizer()\n",
    "def cutter(word):\n",
    "    if len(word) < 4:\n",
    "        return word\n",
    "    return WNL.lemmatize(WNL.lemmatize(word, \"n\"), \"v\")"
   ]
  },
  {
   "cell_type": "markdown",
   "metadata": {},
   "source": [
    "#### Function *'cutter()'* lemmatizes words to standardized form."
   ]
  },
  {
   "cell_type": "code",
   "execution_count": 4,
   "metadata": {
    "ExecuteTime": {
     "end_time": "2017-11-27T22:43:12.158842Z",
     "start_time": "2017-11-27T22:43:09.438343Z"
    }
   },
   "outputs": [
    {
     "data": {
      "text/plain": [
       "'visualize'"
      ]
     },
     "execution_count": 4,
     "metadata": {},
     "output_type": "execute_result"
    }
   ],
   "source": [
    "cutter('visualizing')"
   ]
  },
  {
   "cell_type": "markdown",
   "metadata": {},
   "source": [
    "#### Preprocessing transformations of questions"
   ]
  },
  {
   "cell_type": "code",
   "execution_count": 5,
   "metadata": {
    "ExecuteTime": {
     "end_time": "2017-11-27T22:43:12.202869Z",
     "start_time": "2017-11-27T22:43:12.161829Z"
    }
   },
   "outputs": [
    {
     "name": "stdout",
     "output_type": "stream",
     "text": [
      "she is\n"
     ]
    }
   ],
   "source": [
    "def preprocess(string):\n",
    "    # standardize expression with apostrophe, replace some special symbols with word\n",
    "    string = string.lower().replace(\",000,000\", \"m\").replace(\",000\", \"k\").replace(\"′\", \"'\").replace(\"’\", \"'\") \\\n",
    "        .replace(\"won't\", \"will not\").replace(\"cannot\", \"can not\").replace(\"can't\", \"can not\") \\\n",
    "        .replace(\"n't\", \" not\").replace(\"what's\", \"what is\").replace(\"it's\", \"it is\") \\\n",
    "        .replace(\"'ve\", \" have\").replace(\"i'm\", \"i am\").replace(\"'re\", \" are\") \\\n",
    "        .replace(\"he's\", \"he is\").replace(\"she's\", \"she is\").replace(\"'s\", \" own\") \\\n",
    "        .replace(\"%\", \" percent \").replace(\"₹\", \" rupee \").replace(\"$\", \" dollar \") \\\n",
    "        .replace(\"€\", \" euro \").replace(\"'ll\", \" will\").replace(\"=\", \" equal \").replace(\"+\", \" plus \")\n",
    "    # remove punctuation and special symbols\n",
    "    string = re.sub('[“”\\(\\'…\\)\\!\\^\\\"\\.;:,\\-\\?？\\{\\}\\[\\]\\\\/\\*@]', ' ', string)\n",
    "    string = re.sub(r\"([0-9]+)000000\", r\"\\1m\", string)\n",
    "    string = re.sub(r\"([0-9]+)000\", r\"\\1k\", string)\n",
    "    # lemmatize\n",
    "    string = ' '.join([cutter(w) for w in string.split()])\n",
    "    return string\n",
    "\n",
    "print(preprocess(\"she's\"))"
   ]
  },
  {
   "cell_type": "markdown",
   "metadata": {},
   "source": [
    "#### Apply preprocessing to train sample. \n",
    "\n",
    "#### All transformations applied to train will be applied to test as well"
   ]
  },
  {
   "cell_type": "code",
   "execution_count": 6,
   "metadata": {
    "ExecuteTime": {
     "end_time": "2017-11-27T22:44:41.096828Z",
     "start_time": "2017-11-27T22:43:12.206218Z"
    }
   },
   "outputs": [
    {
     "name": "stdout",
     "output_type": "stream",
     "text": [
      "Question 1: What is the story of Kohinoor (Koh-i-Noor) Diamond?\n",
      "Question 2: What would happen if the Indian government stole the Kohinoor (Koh-i-Noor) diamond back?\n",
      "Question 1 processed: what is the story of kohinoor koh i noor diamond\n",
      "Question 2 processed: what would happen if the indian government steal the kohinoor koh i noor diamond back\n",
      "<class 'pandas.core.series.Series'>\n"
     ]
    }
   ],
   "source": [
    "print('Question 1: %s' % train[\"question1\"][1])\n",
    "print('Question 2: %s' % train[\"question2\"][1])\n",
    "train[\"question1\"] = train[\"question1\"].fillna(\"\").apply(preprocess)\n",
    "train[\"question2\"] = train[\"question2\"].fillna(\"\").apply(preprocess)\n",
    "print('Question 1 processed: %s' % train.question1[1])\n",
    "print('Question 2 processed: %s' % train.question2[1])\n",
    "\n",
    "# Question 1: What is the story of Kohinoor (Koh-i-Noor) Diamond?\n",
    "# Question 2: What would happen if the Indian government stole the Kohinoor (Koh-i-Noor) diamond back?\n",
    "# Question 1 processed: what is the story of kohinoor koh i noor diamond\n",
    "# Question 2 processed: what would happen if the indian government steal the kohinoor koh i noor diamond back\n",
    "print(type(train[\"question1\"].fillna(\"\")))"
   ]
  },
  {
   "cell_type": "markdown",
   "metadata": {},
   "source": [
    "## Step 2. Creating vocabulary of frequent words\n",
    "\n",
    "Create vocabulary of relatively frequent words in questions: words with frequency greater than *MIN_WORD_OCCURRENCE* times. \n",
    "\n",
    "For the small dataset *MIN_WORD_OCCURRENCE* is selected small, but for the whole dataset it should be much larger (may be in the range 50-150).\n",
    "\n",
    "For word count use familiar *CountVectorizer*."
   ]
  },
  {
   "cell_type": "code",
   "execution_count": 7,
   "metadata": {
    "ExecuteTime": {
     "end_time": "2017-11-27T22:44:49.283481Z",
     "start_time": "2017-11-27T22:44:41.098696Z"
    },
    "scrolled": false
   },
   "outputs": [
    {
     "name": "stdout",
     "output_type": "stream",
     "text": [
      "28890 top_words\n",
      "Top words ['psychosis', 'circle', 'functionalism', 'premam', 'cardiology', 'review', 'sangam', 'supernova', 'solicitation', 'inguinal']\n"
     ]
    }
   ],
   "source": [
    "from sklearn.feature_extraction.text import CountVectorizer\n",
    "\n",
    "MIN_WORD_OCCURRENCE = 3 # 3 for demo and testing in local environment. Select number for final results\n",
    "\n",
    "all_questions = pd.Series(train[\"question1\"].tolist() + train[\"question2\"].tolist()).unique()\n",
    "vectorizer = CountVectorizer(lowercase=False, token_pattern=\"\\S+\", # replace white spaces with spaces\n",
    "                             min_df=MIN_WORD_OCCURRENCE)\n",
    "vectorizer.fit(all_questions)\n",
    "top_words = set(vectorizer.vocabulary_.keys())\n",
    "print(len(top_words),'top_words')\n",
    "print('Top words %s' % list(top_words)[:10]) # so here, the OCCURRENCE rank is not ordered."
   ]
  },
  {
   "cell_type": "markdown",
   "metadata": {},
   "source": [
    "## Step 3. Remove rare words\n",
    "\n",
    "The consecutive rare words are replaced with one word \"suspense\". The result is limited to 30 trailing words. \n",
    "\n",
    "Remove first words in long question since the end of it is usually more important. \n",
    "\n",
    "Add \"suspense\" to *top_words*."
   ]
  },
  {
   "cell_type": "code",
   "execution_count": 8,
   "metadata": {
    "ExecuteTime": {
     "end_time": "2017-11-27T22:44:49.289629Z",
     "start_time": "2017-11-27T22:44:49.285472Z"
    },
    "collapsed": true
   },
   "outputs": [],
   "source": [
    "REPLACE_WORD = \"suspense\"\n",
    "top_words.add(REPLACE_WORD)\n",
    "MAX_SEQUENCE_LENGTH = 30"
   ]
  },
  {
   "cell_type": "code",
   "execution_count": 9,
   "metadata": {
    "ExecuteTime": {
     "end_time": "2017-11-27T22:44:49.312475Z",
     "start_time": "2017-11-27T22:44:49.292022Z"
    }
   },
   "outputs": [
    {
     "name": "stdout",
     "output_type": "stream",
     "text": [
      "Question: motorola company can i hack my charter motorolla dcx3400\n",
      "Prepared question: motorola company can i hack my charter suspense\n"
     ]
    }
   ],
   "source": [
    "def prepare(q):\n",
    "    new_q = []\n",
    "    new_suspense = True # ready to add REPLACE_WORD \n",
    "    # a[::-1] invert order of list a, so we start from the end\n",
    "    for w in q.split()[::-1]:\n",
    "        if w in top_words:\n",
    "            new_q = [w] + new_q # add word from top_words\n",
    "            new_suspense = True\n",
    "        elif new_suspense:\n",
    "            new_q = [REPLACE_WORD] + new_q\n",
    "            new_suspense = False  # only 1 REPLACE_WORD for group of rare words\n",
    "        if len(new_q) == MAX_SEQUENCE_LENGTH:\n",
    "            break\n",
    "    new_q = \" \".join(new_q)\n",
    "    return new_q\n",
    "\n",
    "question = train.question1[9]\n",
    "print('Question: %s' % question)\n",
    "print('Prepared question: %s' % prepare(question))"
   ]
  },
  {
   "cell_type": "markdown",
   "metadata": {},
   "source": [
    "Apply the function to train questions"
   ]
  },
  {
   "cell_type": "code",
   "execution_count": 10,
   "metadata": {
    "ExecuteTime": {
     "end_time": "2017-11-27T22:44:55.869252Z",
     "start_time": "2017-11-27T22:44:49.315067Z"
    }
   },
   "outputs": [
    {
     "name": "stdout",
     "output_type": "stream",
     "text": [
      "what is the step by step guide to invest in share market in india\n"
     ]
    }
   ],
   "source": [
    "q1s_train = train.question1.apply(prepare)\n",
    "q2s_train = train.question2.apply(prepare)\n",
    "print(q1s_train[0])"
   ]
  },
  {
   "cell_type": "markdown",
   "metadata": {},
   "source": [
    "## Step 4. Create embedding index\n",
    "\n",
    "Build embedding index - dictionary with words from *top_words* as keys and their vector presentations as values.\n",
    "\n",
    "Take vector presentations of words from Common Crawl (840B tokens, 2.2M vocab, cased, 300d vectors, 2.03 GB download) embedding file [glove.840B.300d](http://nlp.stanford.edu/data/glove.840B.300d.zip). Each line of the file contains word space separated from components of word vector."
   ]
  },
  {
   "cell_type": "code",
   "execution_count": 11,
   "metadata": {
    "ExecuteTime": {
     "end_time": "2017-11-27T22:44:55.884083Z",
     "start_time": "2017-11-27T22:44:55.871396Z"
    },
    "collapsed": true
   },
   "outputs": [],
   "source": [
    "EMBEDDING_DIM = 300\n",
    "EMBEDDING_FILE = \"/user/wendygao16/fs_Quora/glove.840B.300d.txt\"\n",
    "\n",
    "def get_embedding():\n",
    "    embeddings_index = {}\n",
    "    with open(EMBEDDING_FILE, encoding='utf8') as f:\n",
    "        for line in f:\n",
    "            values = line.split()\n",
    "            word = values[0]\n",
    "            if len(values) == EMBEDDING_DIM + 1 and word in top_words:\n",
    "                coefs = np.asarray(values[1:], dtype=\"float32\")\n",
    "                embeddings_index[word] = coefs\n",
    "    return embeddings_index"
   ]
  },
  {
   "cell_type": "markdown",
   "metadata": {},
   "source": [
    "Build *embeddings_index* and reduce *top_words* to those having vector representation."
   ]
  },
  {
   "cell_type": "code",
   "execution_count": 12,
   "metadata": {
    "ExecuteTime": {
     "end_time": "2017-11-27T22:45:57.177342Z",
     "start_time": "2017-11-27T22:44:55.886054Z"
    }
   },
   "outputs": [
    {
     "name": "stdout",
     "output_type": "stream",
     "text": [
      "Words not found in the embedding: {'rubymotion', 'gokano', 'premam', 's4a', 'kiip', 'baelish', 'm335', 'a&f', 'oscp', '7ghz', 'eklavya', 'ocpjp', 'marathahalli', 'capf', 'vjti', 'gdpi', 'rustom', 'μtorrent', '\\\\text', 'nutanix', 'muoet', '£5k', 'iimc', 'kaththi', 'isil', 'au111tx', 'calment', 'glyx', 'h3o', 'crisc', 'vantablack', 'urjit', 'shkreli', 'pakalu', 'housebuildup', 'vasistha', 'tarly', 'ios9', 'h&e', '160q', 'amulyam', 'iilm', 'nirbhaya', 'zoomcar', 'savitar', 'elitmus', 'rajdeep', 'r&s', 'codeacademy', 'callidus', 'klarna', 'muapt', 'pgpx', 'patani', 'x\\\\to\\\\infty', 'wynk', 'pogba', '6500u', 'mcit', 'pdpu', 'gss1', 'msme', 'ropar', '8462852', 'instacart', 'bitsians', '‘this', 'outbrain', 'hofstede', 'railwire', 'ocjp', 'm20x', 'tanmay', 'i140', 'udacity', 'swtor2credits', 'drumpf', 'h>', 'ɽφʉʛƕ', 'bpharm', '\\\\int', '\\\\right', 'politecnico', 'unacademy', 'meldonium', '2–3', 'bokaro', '\\\\end', 'surathkal', '\\\\cdots', '10°c', 'nptel', 'pravana', 'dylann', 'classpass', 'j&k', 'imessages', 'siib', 'erytop', 'iphone7', '7500u', 'p&id', 'nalsar', 'madheshi', 'mixpanel', 'rs500', 'varoufakis', 'eloqua', 'kgmc', 'f#', 'obcs', 'iitm', 'modinagar', 'instagrammer', 'neet2', 'aptoide', 'gramblast', 'don`t', 'karaikudi', 'malayalis', 'duryodhan', 'mixco', '#2', 'codevita', 'quorans', 'kautilya', '\\\\le', 'margaery', 'entc', 'imucet', 'wallonia', 'pgpm', 'manafort', 'delhiites', 'xiith', 'i8262', 'ijera', 'theranos', 'taskrabbit', 'का', 'spipa', 'khizr', 'c100si', '&1k', 'lothbrok', 'middleby', 'pandava', 'rapportive', 'chainsmokers', 'm30x', 'kylo', 'gurugram', 'imagenet', '1877#778#89', '\\\\ge', 'arthakranti', 'extc', 'laxmikanth', 'genpact', 'reince', 'sairat', 'vidyamandir', 'vtop', '<>', 'brezza', 'crms', '∂x', 'autoencoder', '\\\\latex', 'tradesy', 'gofundme', 'nishit', '3kmah', 'ifmr', 'codepen', 's7562', 'demandware', 'codehs', 'gokarna', 'cbit', 'hackerrank', 'palihapitiya', 'gitam', 'webnexs', 'nmims', 'konark', 'storeguide', 'ɐŧ', 'aiq', 'ccny', 'pizzagate', 'maithil', 'pallonji', 'cidp', 'protonmail', 'e&y', 'eb1', 'ƫҿϟɮ☉', 'ownpecial', '2750u', 'ranogajec', 'digitalocean', 'scmhrd', 'bhaijaan', '50ae', 's7582', 'grammarly', '√2', 'schauer', 'byju', 'afcat', 'sherperd', 'priebus', 'wilp', 'noetics', '1300d', 'optiver', 'srimad', 'toptal', 'srinatha', '3″', 'karakum', 'leetcode', 'bronn', 'quirrell', 'simplilearn', 'balagurusamy', 'punchnama', 'gyazo', '\\\\left', 'griezmann', 'icho', 'pgcil', 'swach', 'sethupathi', 'stemcentrx', 'kasturba', 'ggsipu', 'chidiya', 'chevening', 'crunchbase', 'fgfa', 'xchrisone', 'nofap', 'grofers', 'gadot', 'iocl', 'msm8916', 'dies™', 'ubereats', 'starboy', 'th10', 'edgeverve', 'sandeepani', 'villarica', 'swachh', 'vyapam', 'babur', 'servicenow', 'cringiest', 'hyouka', 'rapastinel', 'ios7', 'brahmastra', 'mypromovideos', 'edupristine', 'chandrakar', 'softmax', 'laravel', 'don´t', 'vidhan', 'chhatrapati', 'subquantic', 'mi4i', '£500', 'mhcet', 'jobvite', 'cas9', 'siachen', 'apigee', 'gawande', '\\\\pi', 'areilly', 'xb250', 'm330', 'benter', 'balachander', '||', 'littlefinger', 'infps', 'jio4gvoice', '|x', 'beaglebone', '£800', 'ftii', '1mk', 'ibdp', 'mohenjo', 'durmstrang', 'satyarthi', '\\\\displaystyle', 'suzlon', 'swayamsevak', 'iitans', 'neistat', 'nlu', 'hno3', 'tamilrockers', 'homejoy', '£200', 'k&n', '3\\\\sin', 'soundmagic', 'iiits', 'pgdc', 'collamer', 'chandragupta', 'chatrapati', 'kattankulathur', 'l1b', 'mg996r', 'rs1k', 'lbsnaa', 'protinex', 'yhai', 'padmanabhaswamy', 'rs2k', 'rohingya', 'i7559', 'nicmar', 'p&g', 'what´s', 'sonipat', '365dayscoupons', 'hammerbacher', 'nh4cl', 'undertale', 'gendry', 'varakh', 'dothraki', '#medi', '2\\\\tan', 'adaline', 'ebizz', 'psiphon', 'patekar', 'th8', 'researchgate', 'lbsim', 'brexit', 'myntra', 'kandam', 'siddhu', 'h&m', '‘the', 'crispr', 'nsejs', 'bajrangi', 'aiadmk', 'kalanick', 'ab219tx', 'zzzquil', '2k17', 'bilzerian', 'dayananda', 'glonass', 'zuckerburg', '5–6', 'robocon', 'kabali', 'spotfire', 'nsitians', 'rydalmere', 'jorah', 'shaurya', 'tolani', 'tubemate', 'tmisat', 'demonitization', 'pitru', '#pbn', 'yureka', 'ashwatthama', 'tissnet', 'rushcutters', 'ramakrishnan', 'mahavira', 'doordash', 'ddr3l', 'bhagvat', 'josaa', 'petyr', '2√2', 'nitk', 'hardhome', 'heilongjiang', 'zensar', 'scikit', 'pujara', 'akand', 'drishyam', 'msis', 'sklearn', 'cm12', 'es18', 'davv', 'zocdoc', 'pandodaily', 'manit', 'x265', '20°c', 'clegane', 'c#', 'ruia', 'richfeel', 'istp', 'mh17', 'scalr', 'pmos', 'airpods', 'mclr', 'ramkrishna', 'tallentex', 'a_', 'c2180', 'kpit', 'gtbit', '8700p', 'jinping', 'balram', 'kejariwal', 'furuta', 'pesit', 'es6', 'bigly', '√1', '816g', 'holachef', 'jagriti', 'madeeasy', 'au003tx', 'fibernet', 'kingroot', 'hpcl', 'igdtuw', 'tensorflow', 'nrsc', 'crisil', 'nanodegrees', 'altisource', 'rukmini', 'pycharm', 'kaabil', 'hkust', '360°', 'ownee', 'crizal', 'sonepat', 'tommen', 'alcubierre', 'virali', 'padmanabha', 'jiddu', 'mattermark', 'sapui5', '\\\\lim\\\\limits_', 'nyuad', 'amcat', 'fortiguard', 'klopp', 'galgotia', 'mdes', 'pokecoins', 'akurdi', '∆abc', 'ravula', 'electrotastic', 'pentatonix', 'ramapuram', 'ghazni', 'nikesh', '0°c', 'kerbal', '0ghz', 'dhulagarh', 'chromecast', 'antikythera', 'stayuncle', 'uceed', 'au006tx', 'atsume', 'a555lf', 'deplorables', 'lesswrong', 'sif4', 'g650', 'irnss', 'istj', 'flyknit', 'sarojini', 'elcb', 'nehwal', 'm40x', 'pokestops', 'noopept', 'ramaiah', 'onedrive', 'dhirubhai', 'lazada', 'inmobi', 'testbook', 'makarand', 'ambhani', 'orop', 'meursault', 'dandeli', '5005u', 'cdse', 'ibirité', 'gulen', 'taklamakan', 'sasikala', '\\\\rightarrow', 'hansraj', 'hysys', 'nzérékoré', '4nf', 'udemy', 'charminar', 'polyhouse', '90°', 'x\\\\', 'dulquer', 'etoos', 'katju', 'aiats', 'srcc', 'f1s', 'britisher', 'lassaigne', 'spidercam', '\\\\displaystyle\\\\int', 'nanodegree', 'comnet', '\\\\cos', '\\u200e', 'npci', 'disec', 'wolfram|alpha', 'arushi', 'radiotelescopes', 'bhagvad', 'upwork', 'leapforce', 'bangaluru', 'at&t', 'savarkar', 'pantnagar', 'tomé', 'levipil', 'nielit', 'gnwl', 'vishakapatnam', 'tratak', 'venturimeter', '#medicines', 'vnit', 'irodov', '\\\\dots', 'raftaar', 'corbyn', 'jiit', 'hpair', 'wealthfront', '\\\\exp', 'webceo', 'spjimr', 'dataquest', 'ownhow', 'chhath', 'undergraduation', 'dceu', 'lenskart', '\\\\int_0', 'zootopia', '2″', 'و', 'essos', 'thaad', 'ppsspp', 'deepmind', 'thunderquote', 'covalency', 'uwash', 'madbid', 'scorpene', 'clinkle', 'targaryens', 'patreon', 'knewton', 'fitclown', 'panchatantra', 'makaut', 'jcece', 'bigbasket', '#clinics', 'sibm', 'chromebox', 'spoj', 'usaco', 'mobikwik', 'iitian', 'intercast', 'upsee', 'flipagram', 'livon', '1lac', 'iiitm', 'majboori', 'chennaiyin', '‘a', 'blackcore', 'ocajp', 'davisco', 'welingkar', 'nairs', 'ccmt', 'coupondunia', 'epfl', 'nakamoto', 's&p', 'lumosity', 'talati', 'kanodia', 'ifim', 'hoei', 'ftre', 'angular2', 'bhogle', 'd5500', 'isfj', 'diaoyu', 'raghuram', 'optimizely', 'chitkara', 'yongnuo', 'kmno4', 'gadhimai', 'fa2', 'ibeacon', 'timaeus', 'yodlee', 'axtria', 'iwriter', 'addmefast', 'gödel', 'nmos', '<3', 'country－japan', 'scoopwhoop', '750d', 'adulyadej', 'xender', 'm350', 'venmo', 'harambe', 'sarvepalli', 'fmovies', 'methylcyclohexanol', 'delloite', 'zapier', 'antardasha', 'mh370', 'austan', '\\\\ln', 'karvy', 'ippb', '\\\\cot', 'laakmann', 'pichai', 'tifr', 'heartcatch', 'g360h', 'myjio', '\\\\displaystyle\\\\int_', 'fayol', 'sgpa', 'embibe', 'uncollapse', 'saverin', 'parshuram', 'mauryan', 'alphasights', 'msit', 'mpae', 'oliveboard', 'a7k', 'goolsbee', 'aktu', 'hypermesh', 'careercup', 'kotlin', 'codenation', 'xiomi', '2016–17', 'vishakhapatnam', 'moocs', 'bhubaneshwar', 'alcl3', 'a501cg', 'cricbuzz', 'pgdie', 'redbus', 'msbi', 'fullstack', 'jugnoo', 'chyawanprash', 'meluha', 'redmi', 'harappan', '6200u', 'e&i', 'h2co3', 'sevis', '500&1k', 'vesit', '160r', 'ieo', 'hanumanji', 'preboards', 'epfo', 'leninism', 'shakuni', 'bengio', 'subsurfaces', 'obscurial', 'nitie', 'cbap', 'ecosport', 'areturn', 'awdhesh', 'd3300', 'yulin', 'biswapati', 'mindtree', 'malazan', 'morghulis', 'x²', 'tripitaka', 'housejoy', 'houthis', 'nibm', 'mamc', 'shifuji', 'taimur', 'addepar', 'polavaram', 'allbestlist', 'robotium', 'hamirpur', '6600k', 'kethu', 'confirmtkt', 'quikr', 'zhihu', 'quizup', 'scarif', 'ze551ml', '\\\\sum_', 'intellipaat', 'posco', 'ciaz', 'kashipur', 'w&t', 'ravindrababu', 'nlsiu', '\\\\gt', 'hurstville', 'mnit', 'rabois', 'yazidis', 'baahubali', '\\\\log', 'vnr', 'gedmatch', 'ranikhet', 'launchrock', 'banach', 'vidyalankar', 'chamath', 'ownocial', 'rgpv', 'ncerts', 'valyrian', 'navjot', 'motilal', 'valak', 'pullela', 'codeforces', 'keepsafe', '4005u', 'r&d', 'scvngr', '#1', 'npti', 'altucher', 'taxiforsure', 'bpsc', '\\\\neq', 'squareoff', 'nutties', 'itpl', 'chhatisgarh', 'nadella', 'tspsc', 'rickon', 'bloodraven', 'pcod', 'unclos', 'xlri', 'nsit', 'ue4', 'genderfluid', 'mqtt', 'relu', 'tarski', 'iisers', 'bodnick', 'maharana', 'draupadi', 'mahabharatha', 'ecnr', 'bhubneswar', 'sendgrid', 'svnit', '5lpa', 'c2090', 'cocubes', 'c4040', 'kanniyakumari', '√3', 'branchwise', 'carbonaro', 'pqwl', 'gniit', 'rlgn', 'oberyn', '√x', 'biswa', 'psbs', 'jayalalithaa', 'pabt', 'iimb', 'c#5', 'e&c', 'dmart', '2\\\\pi', 'xuv500', 'usa~', 'a102', 'na3po4', 'jallikattu', 'entps', 'ximb', 'khasra', 'tezpur', 'expressjs', 'roronoa', 'dilma', '\\\\theta', 'nsep', 'eagerpanda', 'atmega32', 'd3400', 'aipvt', 'playcanvas', 'siliconvalley', 'icj', 'fiit', 'pesu', 'gorkha', 'panchgani', 'ramasamy', 'lnmiit', 'ifunny', 'hevc', 'plus500', 'nahco3', 'unionpay', 'wn722n', 'anandiben', 'mhrd', 'olacabs', 'fonepad', '\\\\frac', 'duryodhana', 'reddice', 'keam', 'coenergy', 'bbmp', 'várzea', 'icmr', 'rashtrapati', 'navic', 'promys', 'padhao', 'ramanujacharya', 'bizbilla', 'a6k', 'uppcs', 'kmspico', 'rhcsa', 'afhq', 'angellist', '\\\\in', '\\\\cosh', 'viteee', 'taarak', 'iiitd', 'nbcc', 'munjal', 'bhishma', 'vallabhbhai', 'rcep', 'geofilter', 'rameswaran', 'redmart', 'jecrc', 'ecet', 'owntuff', 'parrikar', '\\\\beta', 'g&k', 'uberpool', '\\\\int\\\\frac', 'hortonworks', 'minance', 'kirchoff', 'summly', 'rlwl', 'econjobrumors', 'ɖ∀ཡز∂', '1krs', 'reactjs', 'yoshua', 'h1z1', 'sanghi', 'srmjee', 'shivaay', 'erised', 'btwin', 'bulleya', 'd5300', 'jiofi', '2k16', 'payumoney', 'ahmadabad', 'bhima', 'schlieffen', 'q&a', 'agcl', 'registan', 'pixate', 'darmstadtium', 'jaish', 'yanis', 'khalistani', 'stoppelman', 'odoo', 'vajiram', 'demonetise', 'ab522tx', 'cyient', 'aurangzeb', 'karlov', 'calexit', 'webrtc', 'thefunded', 'lstm', '|z', 'broglie', 'ramanujan', 'snoke', 'webpack', 'yojna', 'schwarzschild', 'rsorder', 'iitians', 'gigafactory', 'thirukural', 'yellen', 'demonetisation', 'wagah', 'cmpny', 'marwaris', '√4', 'plotly', 'interviewbit', 'miracast', 'unasur', 'krazybutterfly', 'ownc', 'jhunjhunu', 'skylake', 'kasol', 'daiict', 'veritasium', 'y|', 'aug–sep', 'novakov', 'welspun', 'a2as', 'bnbr', '~1', 'magoosh', '4030u', 'fundsindia', 'hololens', 'uppsc', 'meteorjs', 'vikramaditya', 'intps', '\\ufeff', 'aiib', '\\\\displaystyle\\\\sum_', 'omscs', 'rvce', 'brahmos', '\\\\mathbb', 'fehling', 'rhaegar', 'rc200', 'dushka', 'cat2016', 'underdevelop', 'chillingworth', 'mitid', '\\\\sin', 'vijayakanth', 'chronemics', 'rajnath', 'pcmc', 'hackerearth', 'babasaheb', 'freeletics', 'ucms', 'nutils', 'dursleys', 'mcoms', 'philophobia', 'transferwise', 'shoolini', 'befikre', 'chashma', 'vmmc', 'vssut', 'owno', 'jaqen', 'ch3oh', 'oneplus', 'socialtrade', 'prasoon', '7lpa', 'paharganj', 'golgappa', 'eflu', 'ekalavya', 'hyneman', 'marketo', 'aayog', 'xamarin', 'gwadar', 'iimjobs', 'kgi', 'nitian', 'wageworks', '港澳居民來往內地通行證', 'leeco', 'raees', 'amdocs', '1–2', 'abedin', 'dreamliners', 'inmo', 'iima', 'rakshabandhan', 'tapmi', 'gpat', 'mnnit', '6700hq', 'enfj', 'cormen', 'ci7', 'dosham', 'kakatiya', '2|', 'freecharge', 'cerber', 'grindewald', 'beneatha', 'ghazwa', 'enfps', '\\\\lim_', 'markovnikov', '940mx', 'disprin', 'benjen', 'iitk', 'mormont', 'virtusa', 'romedy', '300grain', 'codecademy', 'nathuram', 'i9k', 'brijmohan', 'lemoa', 'mrunal', 'ui5', 'd750', 'tauriel', '\\\\infty', '°c', 'xdk', 'suvidha', 'hbti', 'demonitizing', 'subhas', 'd7k', 'durjoy', 'smartpost', 'class11', 'achanakmar', 'class12', 'internshala', 'aquous', 'openai', 'quara', 'malaviya', 'uppcl', '£100', 'winland', 'fanduel', 'dayanand', 'bournvita', 'vladmir', 'eu4', 'ygritte', 'sardesai', 'lstms', 'darkweb', 'poké', 'blackmoney', 'mhtcet', 'pgdbf', 'orthofill', 'veerappan', 'yousafzai', 'jaiib', 'insas', '\\\\displaystyle\\\\lim_', 'zerodha', 'shimply', 'can´t', 'd&d', 'todoist', 'jabong', 'karkare', 'xime', '\\\\sqrt', 'gearbest', 'aborignals', 'sindri', 'sgsits', 'ownuper', 'magadha', 'jn0', 'eddard', 'saraswat', 'watney', 'sanghvi', 'wistia', 'kissanime', 'rousseff', 'd5200', 'mettl', 'pgdbm', 'demonetize', 'ashtavakra', 'th9', 'feviquick', 'whatsapps', 'zenfone2', 'nvh', 'aipgmee', 'sathyabama', 'c&j', 'intjs', 'gpsc', 'healthtap', 'ghori', 'r&aw', 'euthyphro', '\\\\csc', 'tillerson', 'entj', 'onecoin', 'asaduddin', 'rockrider', 'l&t', 'cc3200', 'hirevue', 'schrödinger', 'solarcity', 'teespring', 'peoplerank', 'cbsc', 'marvolo', 'nizamuddin', '5diii', 'skillselect', 'jhunjhunwala', '15krs', '\\\\mathrm', '〗', 'oces', 'autoadmit', 'shankaracharya', 'crpc', 'bhumibol', 'healthkart', 'korolev', 'f310', 'carnotaurus', 'rajajinagar', 'iiser', 'ylp', '10cgpa', 'techmahindra', 'appium', 'c&ce', 'npcil', 'codeground', '\\\\\\\\', '\\\\ldots', 'grubhub', 'bhakts', 'gtsc', '>1', 'terrex', 'uidai', 'redlich', 'zycus', 'jallianwala', 'swargate', 'jadavpur', 'ooltah', 'm&t', 'qoura', 'bitsian', 'champcash', '£1k', 'codechef', 'disaronno', '\\\\cdot', 'ahok', 'pessat', 'bluemix', 'scripbox', 'aimcat', 'xb450', 'vishwanathan', 'fyers', 'phogat', 'fevikwik', 'antutu', 'thaam', 'uspa', 'goibibo', 'whatsdog', 'paytm', 'vichitra', 'cx275s', '144hz', 'alliser', '1″', 'tsarnaev', 'ownmart', 'narsee', 'md101hn', 'memrise', 'f&o', 'byjus', 'ownent', 'urbanclap', '200ah', 'cerber3', 'rwth', 'rstudio', 'owntate', 'istqb', 'eluga', 'murugadoss', 't150a', 'banasthali', '∂y', 'aghoris', '626g', 'y50', 'nchmct', 'norvig', 'iitan', 'kibana', 'kaggle', '\\\\to', 'jagga', 'amritapuri', 'chakravyuha', 'rgipt', 'ishrat', 'coreos', 'sjf', 'irrfan', 'nimhans', 'kerbi', 'applock', 'yuphoria', 'hollaween', 'dubsmash', 'galtung', 'rulinskas', 'niser', 'musigma', 'shopclues', 'jntuh', 'npat', 'masaan', 'syntaxnet', 'voltric', 'wavii', 'quotev', 'ipill', 'kvpy', 'bookmyshow', 'word2vec', 'postmates', 'pokéstop', '\\\\tan', 'nitians', 'reimann', 'm&m', 'bstat', 'quorians', 'uberx', 'addanyproject', 'coep', 'udta', 'rbse', 'hajmola', 'kpcb', 'adhaar', 'ahai', 'hotstar', 'duolingo', 'b&g', 'letv', 'r15s', 'insofe', 'okrs', 'a311', 'iisc', 'srpk', 'aiits', 'doc2vec', 'yiannopoulos', 'fuelband', 'gajendra', 'foodpanda', 'ferranti', 'एक', 'montek', 'yocoin', 'pmjdy', 'olenna', 'loksabha', 'lyft', 'micat', 'codeathon', 'pitampura', '00k', 'huánuco', 'bajirao', 'delhites', 'srour', 'pocso', 'modiji', 'asansol', 'nexa', 'egyptair', 'carthaginian', 'somaiya', 'geeksforgeeks', 'roopkund', 'arryn', 'nrega', 'naac', 'mayanti', 'nbfc', '\\\\frac1', 'sap2k', 'datascience', 'bramha', 'maharashtrians', 'bulleh', 'esfp', 'mitacs', 'ckwl', 'sanyal', 'dangal', '£1m', 'bocconi', 'sooryavansham', 'chashmah', 'r&b', 'rouhani', 'pokémons', 'ilayathalapathy', 'mkbhd', 'nimcet', 'clrs', 'ttip', 'hapeen', 'gamesalad', 'microservices', 'vuejs', 'thanthi', 'hksar', 'hastinapur', 'airwatch', 'instamojo', 'bschools', 'markandey', 'cryptocurrencies', 'cpec', 'shapoorji', 'euron', 'bhagwad', 'jakku', 'msrit', 'ashwathama', 'piku', 'wasseypur', 'a×b', 'ieseg', 't00j', 'aksai', 'bhms', 'pyspark', 'groupme', 'na2co3', 'gangotri', 'practo', 'iitjam', 'auli', 'nagini', 'ambiverts', 'talkspace', 'tywin', 'lyanna', 'veaux', '40°c', 'aricent', 'nearbuy', 'oceaneering', 'navodaya', 'iitb', 'premji', 'vaporizergiant', 'mppsc', '4\\\\sqrt', 'carlebach', 'kickasstorrents', '\\\\sec', 'd7100', 's660', 'bakchod', 'bipc', 'dynamodb', 'baltistan', 'c6h12o6', 'ameris', 'voot', '#include<stdio', 'topcoder', 'plagueis', 'duterte', 'cph4', '√5', 'owaisi', 'strengthsfinder', '5200u', '|a', 'iipmr', 'nabard', '30°', 'powerprep', 'randomforest', 'methanoic', 'omega2', '6lpa', 'viserys', 'tqwl', 'monjee', 'indiape', 'saavn', 'ethereum', '2014–16', 'nbfcs', 'dgca', 'cpwd', '6100u', 'wallapop', '800–251–4919', 'coinbase', 'abhiyan', '⚪', 'bmsce', 'gionee', 'edwisor', 'rsus', 'ddr4', 'kellyanne', 'indiabulls', 'payu', '50krs', 'krishnadevaraya', 'x\\\\to', 'mastani', 'rccb', 'msba', 'nhai', 'rtpf', 'yishan', '\\\\int_', 'c&c', 'garrix', 'phabricator', 'lhmc', 'negan', 'caiib', 'baghdadi', 'demonitisation', 'powerwall', 'yudkowsky', '220f', '\\\\dfrac', 'njac', 'amartya', 'erebor', 'chsl', 'umayyad', 'mangalyaan', 'dream11', 'carbon12', 'inria', 'vadra', 'dgfs', 'ahalya', 'bahubali', 'cyberoam', 'iitd', 'bpcl', '#9', 'bmtc', 'randyll', 'inoi', '\\\\begin', 'guterres', 'kauravas', 'swacch', '∆u', 's7262', 'ambanis', 'crypt8', 'iict', 'csab', 'l1a', 'clickbait', 'vyasa', '\\\\sum\\\\limits_', 'chabahar', 'zomato', 'picsart', 'na2o', 'gateforum', 'a&m', 'shobhit', 'syntel', 'aahat', 'afsb', 'pgimer', 'pcmb', 'drogon', 'mpstme', '£1', 'gumasta', 'm&a', 'philz', 'nlus', '|x|', '\\\\n', 'daesh', 'lannisters', 'wooplr', 'usertesting', 'what`s', 'sanskari', 'galgotias', 'perello', 'c&', 'haptik', 'warframe', 'likealittle', 'wbut', 'manstein', 'navarathri', 'iamas', 'sadhguru', 'mgtow', 'rashtriya', 'thranduil', 'traveloka', 'm50x', 'hongkongers', 'e&tc', 'oclaro', '\\\\alpha', 'pokécoins', 'kruskal', 'shirpur', 'biromantic', 'p1m', 'neerja', 'doval', 'sfdc', 'boruto', 'truecaller', 'bahá', 'hyperloop', 'infjs', 'snapchats', 'm440', 'itbp', '\\\\times', 'ambrane', 'denbury', 'actioncable', 'p2090', '500rs', 'jbims', 'muscleblaze', 'proschool', '2\\\\sqrt', 'nujs', 'eat24', 'senkaku', 'beepi', 'vivekanand', 'strategy&', 'justdial', 'zenfone', 'mcmullin', '2kinr', 'shaktimaan', 'breeza', 'lecturedekho', '2krs', 'vardah', 'n3540', 'duronto', 'lgbtqi', 'radyance', 'lenevo', 'shibpur', 'stroustrup', 'iibf', 'iiest', 'zawar', 'c2150'}\n"
     ]
    }
   ],
   "source": [
    "embeddings_index = get_embedding()\n",
    "print(\"Words not found in the embedding:\", top_words - embeddings_index.keys())\n",
    "top_words = embeddings_index.keys()"
   ]
  },
  {
   "cell_type": "markdown",
   "metadata": {},
   "source": [
    "## Step 5. Transform questions into integer valued sequences of equal lengths\n",
    "\n",
    "The *Tokenizer.texts_to_sequences* can converts question to a list of integers. But such lists may have different lengths for different questions. And Keras provides method for fixing this issue:\n",
    "\n",
    "*keras.preprocessing.sequence.pad_sequences(sequences, maxlen=None, dtype='int32', padding='pre', truncating='pre', value=0.)* \n",
    "\n",
    "It transforms a list of *num_samples* sequences (lists of scalars) into a 2D Numpy array of shape \n",
    "\n",
    "*(num_samples, num_timesteps)*, \n",
    "\n",
    "where *num_timesteps* is either *maxlen* argument (if provided), or the length of the longest sequence.\n",
    "\n",
    "Sequences that are shorter than *num_timesteps* are padded with *value* at the end. Sequences longer than *num_timesteps* are truncated so that they have the desired length. \n",
    "\n",
    "Position where padding or truncation happens is determined by *padding* or *truncating*, respectively."
   ]
  },
  {
   "cell_type": "code",
   "execution_count": 13,
   "metadata": {
    "ExecuteTime": {
     "end_time": "2017-11-27T22:45:57.195327Z",
     "start_time": "2017-11-27T22:45:57.180735Z"
    }
   },
   "outputs": [
    {
     "name": "stdout",
     "output_type": "stream",
     "text": [
      "Original sequences: [[1, 2], [1, 2, 3, 4, 5]]\n",
      "Padded default: [[0 0 0 1 2]\n",
      " [1 2 3 4 5]]\n",
      "Padded with maxlen=4: [[0 0 1 2]\n",
      " [2 3 4 5]]\n",
      "Padded with maxlen=4, padding=post: [[1 2 0 0]\n",
      " [2 3 4 5]]\n",
      "Padded with maxlen=4, padding=post, truncating=post: [[1 2 0 0]\n",
      " [1 2 3 4]]\n"
     ]
    }
   ],
   "source": [
    "from keras.preprocessing.sequence import pad_sequences\n",
    "sequences = [[1,2],[1,2,3,4,5]]\n",
    "print('Original sequences: %s' % sequences)\n",
    "print('Padded default: %s' % pad_sequences(sequences))\n",
    "print('Padded with maxlen=4: %s' % pad_sequences(sequences,maxlen=4))\n",
    "print('Padded with maxlen=4, padding=post: %s' % pad_sequences(sequences,maxlen=4,padding='post'))\n",
    "print('Padded with maxlen=4, padding=post, truncating=post: %s' \\\n",
    "      %pad_sequences(sequences,maxlen=4,padding='post',truncating='post'))"
   ]
  },
  {
   "cell_type": "markdown",
   "metadata": {},
   "source": [
    "Fit *Tokenizer* to the questions obtained after Step 3 and apply *texts_to_sequences* and *pad_sequences* to them."
   ]
  },
  {
   "cell_type": "code",
   "execution_count": 14,
   "metadata": {
    "ExecuteTime": {
     "end_time": "2017-11-27T22:46:29.311795Z",
     "start_time": "2017-11-27T22:45:57.197190Z"
    }
   },
   "outputs": [
    {
     "name": "stdout",
     "output_type": "stream",
     "text": [
      "Final representation of first question 1:\n",
      "[   0    0    0    0    0    0    0    0    0    0    0    0    0    0    0\n",
      "    0    2    3    1  646   62  646 1922    7  430    8  498  189    8   38]\n",
      "Final representation of first question 2:\n",
      "[   0    0    0    0    0    0    0    0    0    0    0    0    0    0    0\n",
      "    0    0    0    2    3    1  646   62  646 1922    7  430    8  498  189]\n"
     ]
    }
   ],
   "source": [
    "tokenizer = Tokenizer(filters=\"\")\n",
    "tokenizer.fit_on_texts(np.append(q1s_train, q2s_train))\n",
    "word_index = tokenizer.word_index\n",
    "\n",
    "data_1 = pad_sequences(tokenizer.texts_to_sequences(q1s_train), maxlen=MAX_SEQUENCE_LENGTH)\n",
    "data_2 = pad_sequences(tokenizer.texts_to_sequences(q2s_train), maxlen=MAX_SEQUENCE_LENGTH)\n",
    "print('Final representation of first question 1:')\n",
    "print(data_1[0])\n",
    "print('Final representation of first question 2:')\n",
    "print(data_2[0])"
   ]
  },
  {
   "cell_type": "markdown",
   "metadata": {},
   "source": [
    "Each question now is represented by a vector of 30 numbers.\n",
    "\n",
    "Repeat the same steps with *test* set and create:\n",
    "\n",
    "*q1s_test -> test_data_1*  \n",
    "*q2s_test -> test_data_2*  \n",
    "\n",
    "Do not refit Tokenizer, use the same as for *train*."
   ]
  },
  {
   "cell_type": "code",
   "execution_count": 15,
   "metadata": {
    "ExecuteTime": {
     "end_time": "2017-11-27T22:57:01.487073Z",
     "start_time": "2017-11-27T22:46:29.313936Z"
    },
    "collapsed": true
   },
   "outputs": [],
   "source": [
    "test[\"question1\"] = test[\"question1\"].fillna(\"\").apply(preprocess)\n",
    "test[\"question2\"] = test[\"question2\"].fillna(\"\").apply(preprocess)\n",
    "q1s_test = test.question1.apply(prepare)\n",
    "q2s_test = test.question2.apply(prepare)\n",
    "test_data_1 = pad_sequences(tokenizer.texts_to_sequences(q1s_test), \n",
    "                       maxlen=MAX_SEQUENCE_LENGTH)\n",
    "test_data_2 = pad_sequences(tokenizer.texts_to_sequences(q2s_test), \n",
    "                       maxlen=MAX_SEQUENCE_LENGTH)"
   ]
  },
  {
   "cell_type": "markdown",
   "metadata": {},
   "source": [
    "## Step 6. Create embedding matrix\n",
    "\n",
    "Now make embedding matrix of weights from embedding index. \n",
    "\n",
    "The *i-th* row of this matrix is a vector representation of word with index *i* in *word_index*. \n",
    "\n",
    "The embedding matrix will be used as weights matrix for embedding layer."
   ]
  },
  {
   "cell_type": "code",
   "execution_count": 16,
   "metadata": {
    "ExecuteTime": {
     "end_time": "2017-11-27T22:57:01.599105Z",
     "start_time": "2017-11-27T22:57:01.489468Z"
    },
    "collapsed": true,
    "scrolled": true
   },
   "outputs": [],
   "source": [
    "nb_words = len(word_index) + 1\n",
    "embedding_matrix = np.zeros((nb_words, EMBEDDING_DIM))  # matrix of zeros\n",
    "\n",
    "for word, i in word_index.items():\n",
    "    embedding_vector = embeddings_index.get(word)\n",
    "    if embedding_vector is not None:\n",
    "        embedding_matrix[i] = embedding_vector"
   ]
  },
  {
   "cell_type": "markdown",
   "metadata": {},
   "source": [
    "Create embedding layer from embedding matrix as follows."
   ]
  },
  {
   "cell_type": "code",
   "execution_count": 17,
   "metadata": {
    "ExecuteTime": {
     "end_time": "2017-11-27T22:57:01.605585Z",
     "start_time": "2017-11-27T22:57:01.601046Z"
    },
    "collapsed": true
   },
   "outputs": [],
   "source": [
    "embedding_layer = Embedding(nb_words, EMBEDDING_DIM,\n",
    "                            weights=[embedding_matrix],\n",
    "                            input_length=MAX_SEQUENCE_LENGTH,\n",
    "                            trainable=False)"
   ]
  },
  {
   "cell_type": "markdown",
   "metadata": {},
   "source": [
    "Setting *trainable=False* declares that no changing weights is required during traning. \n",
    "\n",
    "This layer just transforms sequences of integers (word indexes) into sequences of their vector representations.  \n",
    "\n",
    "## Step 7. Save the data\n",
    "\n",
    "We prepared the the following variables for neural network:\n",
    "\n",
    "\n",
    "- *data_1*, *data_2*: padded numeric sequences for questions 1 and 2 in train sample \n",
    "- *test_data_1*, *test_data_2*: padded numeric sequences for questions 1 and 2 in test sample\n",
    "- *nb_words*: length of dictionary *'word_index'* \n",
    "- *embedding_matrix*: matrix for transformation in the embedding layer\n",
    "\n",
    "Save these variables to *.pkl* files"
   ]
  },
  {
   "cell_type": "code",
   "execution_count": 18,
   "metadata": {
    "ExecuteTime": {
     "end_time": "2017-11-27T22:57:03.860166Z",
     "start_time": "2017-11-27T22:57:01.607701Z"
    },
    "collapsed": true
   },
   "outputs": [],
   "source": [
    "with open('./savedData/data_1.pkl', 'wb') as f: pickle.dump(data_1, f, -1)\n",
    "with open('./savedData/data_2.pkl', 'wb') as f: pickle.dump(data_2, f, -1)\n",
    "with open('./savedData/nb_words.pkl', 'wb') as f: pickle.dump(nb_words, f, -1)\n",
    "with open('./savedData/embedding_matrix.pkl', 'wb') as f: pickle.dump(embedding_matrix, f, -1)\n",
    "with open('./savedData/test_data_1.pkl', 'wb') as f: pickle.dump(test_data_1, f, -1)\n",
    "with open('./savedData/test_data_2.pkl', 'wb') as f: pickle.dump(test_data_2, f, -1)    "
   ]
  }
 ],
 "metadata": {
  "anaconda-cloud": {},
  "kernelspec": {
   "display_name": "Python 3",
   "language": "python",
   "name": "python3"
  },
  "language_info": {
   "codemirror_mode": {
    "name": "ipython",
    "version": 3
   },
   "file_extension": ".py",
   "mimetype": "text/x-python",
   "name": "python",
   "nbconvert_exporter": "python",
   "pygments_lexer": "ipython3",
   "version": "3.6.3"
  },
  "varInspector": {
   "cols": {
    "lenName": 16,
    "lenType": 16,
    "lenVar": 40
   },
   "kernels_config": {
    "python": {
     "delete_cmd_postfix": "",
     "delete_cmd_prefix": "del ",
     "library": "var_list.py",
     "varRefreshCmd": "print(var_dic_list())"
    },
    "r": {
     "delete_cmd_postfix": ") ",
     "delete_cmd_prefix": "rm(",
     "library": "var_list.r",
     "varRefreshCmd": "cat(var_dic_list()) "
    }
   },
   "types_to_exclude": [
    "module",
    "function",
    "builtin_function_or_method",
    "instance",
    "_Feature"
   ],
   "window_display": false
  }
 },
 "nbformat": 4,
 "nbformat_minor": 1
}
